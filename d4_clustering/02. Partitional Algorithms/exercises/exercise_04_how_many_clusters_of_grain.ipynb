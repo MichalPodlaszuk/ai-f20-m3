{
 "cells": [
  {
   "cell_type": "markdown",
   "metadata": {},
   "source": [
    "# Exercise 4: How many clusters of grain?\n",
    "\n",
    "In the video, you learnt how to choose a good number of clusters for a dataset using the k-means inertia graph.  You are given a dataset of the measurements of samples of grain.  What's a good number of clusters in this case?\n",
    "\n",
    "This dataset was obtained from the [UCI](https://archive.ics.uci.edu/ml/datasets/seeds)."
   ]
  },
  {
   "cell_type": "markdown",
   "metadata": {},
   "source": [
    "**Step 1:** Load the dataset _(written for you)_."
   ]
  },
  {
   "cell_type": "code",
   "execution_count": 1,
   "metadata": {
    "collapsed": true,
    "exercise": false
   },
   "outputs": [],
   "source": [
    "import pandas as pd\n",
    "\n",
    "seeds_df = pd.read_csv('../datasets/seeds.csv')\n",
    "# forget about the grain variety for the moment - we'll use this later\n",
    "del seeds_df['grain_variety']"
   ]
  },
  {
   "cell_type": "markdown",
   "metadata": {},
   "source": [
    "**Step 2:** Display the DataFrame to inspect the data.  Notice that there are 7 columns - so each grain sample (row) is a point in 7D space!  Scatter plots can't help us here."
   ]
  },
  {
   "cell_type": "code",
   "execution_count": 2,
   "metadata": {},
   "outputs": [
    {
     "output_type": "execute_result",
     "data": {
      "text/plain": [
       "      area  perimeter  compactness  length  width  asymmetry_coefficient  \\\n",
       "0    15.26      14.84       0.8710   5.763  3.312                 2.2210   \n",
       "1    14.88      14.57       0.8811   5.554  3.333                 1.0180   \n",
       "2    14.29      14.09       0.9050   5.291  3.337                 2.6990   \n",
       "3    13.84      13.94       0.8955   5.324  3.379                 2.2590   \n",
       "4    16.14      14.99       0.9034   5.658  3.562                 1.3550   \n",
       "5    14.38      14.21       0.8951   5.386  3.312                 2.4620   \n",
       "6    14.69      14.49       0.8799   5.563  3.259                 3.5860   \n",
       "7    14.11      14.10       0.8911   5.420  3.302                 2.7000   \n",
       "8    16.63      15.46       0.8747   6.053  3.465                 2.0400   \n",
       "9    16.44      15.25       0.8880   5.884  3.505                 1.9690   \n",
       "10   15.26      14.85       0.8696   5.714  3.242                 4.5430   \n",
       "11   14.03      14.16       0.8796   5.438  3.201                 1.7170   \n",
       "12   13.89      14.02       0.8880   5.439  3.199                 3.9860   \n",
       "13   13.78      14.06       0.8759   5.479  3.156                 3.1360   \n",
       "14   13.74      14.05       0.8744   5.482  3.114                 2.9320   \n",
       "15   14.59      14.28       0.8993   5.351  3.333                 4.1850   \n",
       "16   13.99      13.83       0.9183   5.119  3.383                 5.2340   \n",
       "17   15.69      14.75       0.9058   5.527  3.514                 1.5990   \n",
       "18   14.70      14.21       0.9153   5.205  3.466                 1.7670   \n",
       "19   12.72      13.57       0.8686   5.226  3.049                 4.1020   \n",
       "20   14.16      14.40       0.8584   5.658  3.129                 3.0720   \n",
       "21   14.11      14.26       0.8722   5.520  3.168                 2.6880   \n",
       "22   15.88      14.90       0.8988   5.618  3.507                 0.7651   \n",
       "23   12.08      13.23       0.8664   5.099  2.936                 1.4150   \n",
       "24   15.01      14.76       0.8657   5.789  3.245                 1.7910   \n",
       "25   16.19      15.16       0.8849   5.833  3.421                 0.9030   \n",
       "26   13.02      13.76       0.8641   5.395  3.026                 3.3730   \n",
       "27   12.74      13.67       0.8564   5.395  2.956                 2.5040   \n",
       "28   14.11      14.18       0.8820   5.541  3.221                 2.7540   \n",
       "29   13.45      14.02       0.8604   5.516  3.065                 3.5310   \n",
       "..     ...        ...          ...     ...    ...                    ...   \n",
       "180  11.41      12.95       0.8560   5.090  2.775                 4.9570   \n",
       "181  12.46      13.41       0.8706   5.236  3.017                 4.9870   \n",
       "182  12.19      13.36       0.8579   5.240  2.909                 4.8570   \n",
       "183  11.65      13.07       0.8575   5.108  2.850                 5.2090   \n",
       "184  12.89      13.77       0.8541   5.495  3.026                 6.1850   \n",
       "185  11.56      13.31       0.8198   5.363  2.683                 4.0620   \n",
       "186  11.81      13.45       0.8198   5.413  2.716                 4.8980   \n",
       "187  10.91      12.80       0.8372   5.088  2.675                 4.1790   \n",
       "188  11.23      12.82       0.8594   5.089  2.821                 7.5240   \n",
       "189  10.59      12.41       0.8648   4.899  2.787                 4.9750   \n",
       "190  10.93      12.80       0.8390   5.046  2.717                 5.3980   \n",
       "191  11.27      12.86       0.8563   5.091  2.804                 3.9850   \n",
       "192  11.87      13.02       0.8795   5.132  2.953                 3.5970   \n",
       "193  10.82      12.83       0.8256   5.180  2.630                 4.8530   \n",
       "194  12.11      13.27       0.8639   5.236  2.975                 4.1320   \n",
       "195  12.80      13.47       0.8860   5.160  3.126                 4.8730   \n",
       "196  12.79      13.53       0.8786   5.224  3.054                 5.4830   \n",
       "197  13.37      13.78       0.8849   5.320  3.128                 4.6700   \n",
       "198  12.62      13.67       0.8481   5.410  2.911                 3.3060   \n",
       "199  12.76      13.38       0.8964   5.073  3.155                 2.8280   \n",
       "200  12.38      13.44       0.8609   5.219  2.989                 5.4720   \n",
       "201  12.67      13.32       0.8977   4.984  3.135                 2.3000   \n",
       "202  11.18      12.72       0.8680   5.009  2.810                 4.0510   \n",
       "203  12.70      13.41       0.8874   5.183  3.091                 8.4560   \n",
       "204  12.37      13.47       0.8567   5.204  2.960                 3.9190   \n",
       "205  12.19      13.20       0.8783   5.137  2.981                 3.6310   \n",
       "206  11.23      12.88       0.8511   5.140  2.795                 4.3250   \n",
       "207  13.20      13.66       0.8883   5.236  3.232                 8.3150   \n",
       "208  11.84      13.21       0.8521   5.175  2.836                 3.5980   \n",
       "209  12.30      13.34       0.8684   5.243  2.974                 5.6370   \n",
       "\n",
       "     groove_length  \n",
       "0            5.220  \n",
       "1            4.956  \n",
       "2            4.825  \n",
       "3            4.805  \n",
       "4            5.175  \n",
       "5            4.956  \n",
       "6            5.219  \n",
       "7            5.000  \n",
       "8            5.877  \n",
       "9            5.533  \n",
       "10           5.314  \n",
       "11           5.001  \n",
       "12           4.738  \n",
       "13           4.872  \n",
       "14           4.825  \n",
       "15           4.781  \n",
       "16           4.781  \n",
       "17           5.046  \n",
       "18           4.649  \n",
       "19           4.914  \n",
       "20           5.176  \n",
       "21           5.219  \n",
       "22           5.091  \n",
       "23           4.961  \n",
       "24           5.001  \n",
       "25           5.307  \n",
       "26           4.825  \n",
       "27           4.869  \n",
       "28           5.038  \n",
       "29           5.097  \n",
       "..             ...  \n",
       "180          4.825  \n",
       "181          5.147  \n",
       "182          5.158  \n",
       "183          5.135  \n",
       "184          5.316  \n",
       "185          5.182  \n",
       "186          5.352  \n",
       "187          4.956  \n",
       "188          4.957  \n",
       "189          4.794  \n",
       "190          5.045  \n",
       "191          5.001  \n",
       "192          5.132  \n",
       "193          5.089  \n",
       "194          5.012  \n",
       "195          4.914  \n",
       "196          4.958  \n",
       "197          5.091  \n",
       "198          5.231  \n",
       "199          4.830  \n",
       "200          5.045  \n",
       "201          4.745  \n",
       "202          4.828  \n",
       "203          5.000  \n",
       "204          5.001  \n",
       "205          4.870  \n",
       "206          5.003  \n",
       "207          5.056  \n",
       "208          5.044  \n",
       "209          5.063  \n",
       "\n",
       "[210 rows x 7 columns]"
      ],
      "text/html": "<div>\n<style scoped>\n    .dataframe tbody tr th:only-of-type {\n        vertical-align: middle;\n    }\n\n    .dataframe tbody tr th {\n        vertical-align: top;\n    }\n\n    .dataframe thead th {\n        text-align: right;\n    }\n</style>\n<table border=\"1\" class=\"dataframe\">\n  <thead>\n    <tr style=\"text-align: right;\">\n      <th></th>\n      <th>area</th>\n      <th>perimeter</th>\n      <th>compactness</th>\n      <th>length</th>\n      <th>width</th>\n      <th>asymmetry_coefficient</th>\n      <th>groove_length</th>\n    </tr>\n  </thead>\n  <tbody>\n    <tr>\n      <th>0</th>\n      <td>15.26</td>\n      <td>14.84</td>\n      <td>0.8710</td>\n      <td>5.763</td>\n      <td>3.312</td>\n      <td>2.2210</td>\n      <td>5.220</td>\n    </tr>\n    <tr>\n      <th>1</th>\n      <td>14.88</td>\n      <td>14.57</td>\n      <td>0.8811</td>\n      <td>5.554</td>\n      <td>3.333</td>\n      <td>1.0180</td>\n      <td>4.956</td>\n    </tr>\n    <tr>\n      <th>2</th>\n      <td>14.29</td>\n      <td>14.09</td>\n      <td>0.9050</td>\n      <td>5.291</td>\n      <td>3.337</td>\n      <td>2.6990</td>\n      <td>4.825</td>\n    </tr>\n    <tr>\n      <th>3</th>\n      <td>13.84</td>\n      <td>13.94</td>\n      <td>0.8955</td>\n      <td>5.324</td>\n      <td>3.379</td>\n      <td>2.2590</td>\n      <td>4.805</td>\n    </tr>\n    <tr>\n      <th>4</th>\n      <td>16.14</td>\n      <td>14.99</td>\n      <td>0.9034</td>\n      <td>5.658</td>\n      <td>3.562</td>\n      <td>1.3550</td>\n      <td>5.175</td>\n    </tr>\n    <tr>\n      <th>5</th>\n      <td>14.38</td>\n      <td>14.21</td>\n      <td>0.8951</td>\n      <td>5.386</td>\n      <td>3.312</td>\n      <td>2.4620</td>\n      <td>4.956</td>\n    </tr>\n    <tr>\n      <th>6</th>\n      <td>14.69</td>\n      <td>14.49</td>\n      <td>0.8799</td>\n      <td>5.563</td>\n      <td>3.259</td>\n      <td>3.5860</td>\n      <td>5.219</td>\n    </tr>\n    <tr>\n      <th>7</th>\n      <td>14.11</td>\n      <td>14.10</td>\n      <td>0.8911</td>\n      <td>5.420</td>\n      <td>3.302</td>\n      <td>2.7000</td>\n      <td>5.000</td>\n    </tr>\n    <tr>\n      <th>8</th>\n      <td>16.63</td>\n      <td>15.46</td>\n      <td>0.8747</td>\n      <td>6.053</td>\n      <td>3.465</td>\n      <td>2.0400</td>\n      <td>5.877</td>\n    </tr>\n    <tr>\n      <th>9</th>\n      <td>16.44</td>\n      <td>15.25</td>\n      <td>0.8880</td>\n      <td>5.884</td>\n      <td>3.505</td>\n      <td>1.9690</td>\n      <td>5.533</td>\n    </tr>\n    <tr>\n      <th>10</th>\n      <td>15.26</td>\n      <td>14.85</td>\n      <td>0.8696</td>\n      <td>5.714</td>\n      <td>3.242</td>\n      <td>4.5430</td>\n      <td>5.314</td>\n    </tr>\n    <tr>\n      <th>11</th>\n      <td>14.03</td>\n      <td>14.16</td>\n      <td>0.8796</td>\n      <td>5.438</td>\n      <td>3.201</td>\n      <td>1.7170</td>\n      <td>5.001</td>\n    </tr>\n    <tr>\n      <th>12</th>\n      <td>13.89</td>\n      <td>14.02</td>\n      <td>0.8880</td>\n      <td>5.439</td>\n      <td>3.199</td>\n      <td>3.9860</td>\n      <td>4.738</td>\n    </tr>\n    <tr>\n      <th>13</th>\n      <td>13.78</td>\n      <td>14.06</td>\n      <td>0.8759</td>\n      <td>5.479</td>\n      <td>3.156</td>\n      <td>3.1360</td>\n      <td>4.872</td>\n    </tr>\n    <tr>\n      <th>14</th>\n      <td>13.74</td>\n      <td>14.05</td>\n      <td>0.8744</td>\n      <td>5.482</td>\n      <td>3.114</td>\n      <td>2.9320</td>\n      <td>4.825</td>\n    </tr>\n    <tr>\n      <th>15</th>\n      <td>14.59</td>\n      <td>14.28</td>\n      <td>0.8993</td>\n      <td>5.351</td>\n      <td>3.333</td>\n      <td>4.1850</td>\n      <td>4.781</td>\n    </tr>\n    <tr>\n      <th>16</th>\n      <td>13.99</td>\n      <td>13.83</td>\n      <td>0.9183</td>\n      <td>5.119</td>\n      <td>3.383</td>\n      <td>5.2340</td>\n      <td>4.781</td>\n    </tr>\n    <tr>\n      <th>17</th>\n      <td>15.69</td>\n      <td>14.75</td>\n      <td>0.9058</td>\n      <td>5.527</td>\n      <td>3.514</td>\n      <td>1.5990</td>\n      <td>5.046</td>\n    </tr>\n    <tr>\n      <th>18</th>\n      <td>14.70</td>\n      <td>14.21</td>\n      <td>0.9153</td>\n      <td>5.205</td>\n      <td>3.466</td>\n      <td>1.7670</td>\n      <td>4.649</td>\n    </tr>\n    <tr>\n      <th>19</th>\n      <td>12.72</td>\n      <td>13.57</td>\n      <td>0.8686</td>\n      <td>5.226</td>\n      <td>3.049</td>\n      <td>4.1020</td>\n      <td>4.914</td>\n    </tr>\n    <tr>\n      <th>20</th>\n      <td>14.16</td>\n      <td>14.40</td>\n      <td>0.8584</td>\n      <td>5.658</td>\n      <td>3.129</td>\n      <td>3.0720</td>\n      <td>5.176</td>\n    </tr>\n    <tr>\n      <th>21</th>\n      <td>14.11</td>\n      <td>14.26</td>\n      <td>0.8722</td>\n      <td>5.520</td>\n      <td>3.168</td>\n      <td>2.6880</td>\n      <td>5.219</td>\n    </tr>\n    <tr>\n      <th>22</th>\n      <td>15.88</td>\n      <td>14.90</td>\n      <td>0.8988</td>\n      <td>5.618</td>\n      <td>3.507</td>\n      <td>0.7651</td>\n      <td>5.091</td>\n    </tr>\n    <tr>\n      <th>23</th>\n      <td>12.08</td>\n      <td>13.23</td>\n      <td>0.8664</td>\n      <td>5.099</td>\n      <td>2.936</td>\n      <td>1.4150</td>\n      <td>4.961</td>\n    </tr>\n    <tr>\n      <th>24</th>\n      <td>15.01</td>\n      <td>14.76</td>\n      <td>0.8657</td>\n      <td>5.789</td>\n      <td>3.245</td>\n      <td>1.7910</td>\n      <td>5.001</td>\n    </tr>\n    <tr>\n      <th>25</th>\n      <td>16.19</td>\n      <td>15.16</td>\n      <td>0.8849</td>\n      <td>5.833</td>\n      <td>3.421</td>\n      <td>0.9030</td>\n      <td>5.307</td>\n    </tr>\n    <tr>\n      <th>26</th>\n      <td>13.02</td>\n      <td>13.76</td>\n      <td>0.8641</td>\n      <td>5.395</td>\n      <td>3.026</td>\n      <td>3.3730</td>\n      <td>4.825</td>\n    </tr>\n    <tr>\n      <th>27</th>\n      <td>12.74</td>\n      <td>13.67</td>\n      <td>0.8564</td>\n      <td>5.395</td>\n      <td>2.956</td>\n      <td>2.5040</td>\n      <td>4.869</td>\n    </tr>\n    <tr>\n      <th>28</th>\n      <td>14.11</td>\n      <td>14.18</td>\n      <td>0.8820</td>\n      <td>5.541</td>\n      <td>3.221</td>\n      <td>2.7540</td>\n      <td>5.038</td>\n    </tr>\n    <tr>\n      <th>29</th>\n      <td>13.45</td>\n      <td>14.02</td>\n      <td>0.8604</td>\n      <td>5.516</td>\n      <td>3.065</td>\n      <td>3.5310</td>\n      <td>5.097</td>\n    </tr>\n    <tr>\n      <th>...</th>\n      <td>...</td>\n      <td>...</td>\n      <td>...</td>\n      <td>...</td>\n      <td>...</td>\n      <td>...</td>\n      <td>...</td>\n    </tr>\n    <tr>\n      <th>180</th>\n      <td>11.41</td>\n      <td>12.95</td>\n      <td>0.8560</td>\n      <td>5.090</td>\n      <td>2.775</td>\n      <td>4.9570</td>\n      <td>4.825</td>\n    </tr>\n    <tr>\n      <th>181</th>\n      <td>12.46</td>\n      <td>13.41</td>\n      <td>0.8706</td>\n      <td>5.236</td>\n      <td>3.017</td>\n      <td>4.9870</td>\n      <td>5.147</td>\n    </tr>\n    <tr>\n      <th>182</th>\n      <td>12.19</td>\n      <td>13.36</td>\n      <td>0.8579</td>\n      <td>5.240</td>\n      <td>2.909</td>\n      <td>4.8570</td>\n      <td>5.158</td>\n    </tr>\n    <tr>\n      <th>183</th>\n      <td>11.65</td>\n      <td>13.07</td>\n      <td>0.8575</td>\n      <td>5.108</td>\n      <td>2.850</td>\n      <td>5.2090</td>\n      <td>5.135</td>\n    </tr>\n    <tr>\n      <th>184</th>\n      <td>12.89</td>\n      <td>13.77</td>\n      <td>0.8541</td>\n      <td>5.495</td>\n      <td>3.026</td>\n      <td>6.1850</td>\n      <td>5.316</td>\n    </tr>\n    <tr>\n      <th>185</th>\n      <td>11.56</td>\n      <td>13.31</td>\n      <td>0.8198</td>\n      <td>5.363</td>\n      <td>2.683</td>\n      <td>4.0620</td>\n      <td>5.182</td>\n    </tr>\n    <tr>\n      <th>186</th>\n      <td>11.81</td>\n      <td>13.45</td>\n      <td>0.8198</td>\n      <td>5.413</td>\n      <td>2.716</td>\n      <td>4.8980</td>\n      <td>5.352</td>\n    </tr>\n    <tr>\n      <th>187</th>\n      <td>10.91</td>\n      <td>12.80</td>\n      <td>0.8372</td>\n      <td>5.088</td>\n      <td>2.675</td>\n      <td>4.1790</td>\n      <td>4.956</td>\n    </tr>\n    <tr>\n      <th>188</th>\n      <td>11.23</td>\n      <td>12.82</td>\n      <td>0.8594</td>\n      <td>5.089</td>\n      <td>2.821</td>\n      <td>7.5240</td>\n      <td>4.957</td>\n    </tr>\n    <tr>\n      <th>189</th>\n      <td>10.59</td>\n      <td>12.41</td>\n      <td>0.8648</td>\n      <td>4.899</td>\n      <td>2.787</td>\n      <td>4.9750</td>\n      <td>4.794</td>\n    </tr>\n    <tr>\n      <th>190</th>\n      <td>10.93</td>\n      <td>12.80</td>\n      <td>0.8390</td>\n      <td>5.046</td>\n      <td>2.717</td>\n      <td>5.3980</td>\n      <td>5.045</td>\n    </tr>\n    <tr>\n      <th>191</th>\n      <td>11.27</td>\n      <td>12.86</td>\n      <td>0.8563</td>\n      <td>5.091</td>\n      <td>2.804</td>\n      <td>3.9850</td>\n      <td>5.001</td>\n    </tr>\n    <tr>\n      <th>192</th>\n      <td>11.87</td>\n      <td>13.02</td>\n      <td>0.8795</td>\n      <td>5.132</td>\n      <td>2.953</td>\n      <td>3.5970</td>\n      <td>5.132</td>\n    </tr>\n    <tr>\n      <th>193</th>\n      <td>10.82</td>\n      <td>12.83</td>\n      <td>0.8256</td>\n      <td>5.180</td>\n      <td>2.630</td>\n      <td>4.8530</td>\n      <td>5.089</td>\n    </tr>\n    <tr>\n      <th>194</th>\n      <td>12.11</td>\n      <td>13.27</td>\n      <td>0.8639</td>\n      <td>5.236</td>\n      <td>2.975</td>\n      <td>4.1320</td>\n      <td>5.012</td>\n    </tr>\n    <tr>\n      <th>195</th>\n      <td>12.80</td>\n      <td>13.47</td>\n      <td>0.8860</td>\n      <td>5.160</td>\n      <td>3.126</td>\n      <td>4.8730</td>\n      <td>4.914</td>\n    </tr>\n    <tr>\n      <th>196</th>\n      <td>12.79</td>\n      <td>13.53</td>\n      <td>0.8786</td>\n      <td>5.224</td>\n      <td>3.054</td>\n      <td>5.4830</td>\n      <td>4.958</td>\n    </tr>\n    <tr>\n      <th>197</th>\n      <td>13.37</td>\n      <td>13.78</td>\n      <td>0.8849</td>\n      <td>5.320</td>\n      <td>3.128</td>\n      <td>4.6700</td>\n      <td>5.091</td>\n    </tr>\n    <tr>\n      <th>198</th>\n      <td>12.62</td>\n      <td>13.67</td>\n      <td>0.8481</td>\n      <td>5.410</td>\n      <td>2.911</td>\n      <td>3.3060</td>\n      <td>5.231</td>\n    </tr>\n    <tr>\n      <th>199</th>\n      <td>12.76</td>\n      <td>13.38</td>\n      <td>0.8964</td>\n      <td>5.073</td>\n      <td>3.155</td>\n      <td>2.8280</td>\n      <td>4.830</td>\n    </tr>\n    <tr>\n      <th>200</th>\n      <td>12.38</td>\n      <td>13.44</td>\n      <td>0.8609</td>\n      <td>5.219</td>\n      <td>2.989</td>\n      <td>5.4720</td>\n      <td>5.045</td>\n    </tr>\n    <tr>\n      <th>201</th>\n      <td>12.67</td>\n      <td>13.32</td>\n      <td>0.8977</td>\n      <td>4.984</td>\n      <td>3.135</td>\n      <td>2.3000</td>\n      <td>4.745</td>\n    </tr>\n    <tr>\n      <th>202</th>\n      <td>11.18</td>\n      <td>12.72</td>\n      <td>0.8680</td>\n      <td>5.009</td>\n      <td>2.810</td>\n      <td>4.0510</td>\n      <td>4.828</td>\n    </tr>\n    <tr>\n      <th>203</th>\n      <td>12.70</td>\n      <td>13.41</td>\n      <td>0.8874</td>\n      <td>5.183</td>\n      <td>3.091</td>\n      <td>8.4560</td>\n      <td>5.000</td>\n    </tr>\n    <tr>\n      <th>204</th>\n      <td>12.37</td>\n      <td>13.47</td>\n      <td>0.8567</td>\n      <td>5.204</td>\n      <td>2.960</td>\n      <td>3.9190</td>\n      <td>5.001</td>\n    </tr>\n    <tr>\n      <th>205</th>\n      <td>12.19</td>\n      <td>13.20</td>\n      <td>0.8783</td>\n      <td>5.137</td>\n      <td>2.981</td>\n      <td>3.6310</td>\n      <td>4.870</td>\n    </tr>\n    <tr>\n      <th>206</th>\n      <td>11.23</td>\n      <td>12.88</td>\n      <td>0.8511</td>\n      <td>5.140</td>\n      <td>2.795</td>\n      <td>4.3250</td>\n      <td>5.003</td>\n    </tr>\n    <tr>\n      <th>207</th>\n      <td>13.20</td>\n      <td>13.66</td>\n      <td>0.8883</td>\n      <td>5.236</td>\n      <td>3.232</td>\n      <td>8.3150</td>\n      <td>5.056</td>\n    </tr>\n    <tr>\n      <th>208</th>\n      <td>11.84</td>\n      <td>13.21</td>\n      <td>0.8521</td>\n      <td>5.175</td>\n      <td>2.836</td>\n      <td>3.5980</td>\n      <td>5.044</td>\n    </tr>\n    <tr>\n      <th>209</th>\n      <td>12.30</td>\n      <td>13.34</td>\n      <td>0.8684</td>\n      <td>5.243</td>\n      <td>2.974</td>\n      <td>5.6370</td>\n      <td>5.063</td>\n    </tr>\n  </tbody>\n</table>\n<p>210 rows × 7 columns</p>\n</div>"
     },
     "metadata": {},
     "execution_count": 2
    }
   ],
   "source": [
    "seeds_df"
   ]
  },
  {
   "cell_type": "markdown",
   "metadata": {},
   "source": [
    "**Step 3:** Extract the measurements from the DataFrame using its `.values` attribute:"
   ]
  },
  {
   "cell_type": "code",
   "execution_count": 5,
   "metadata": {
    "collapsed": true
   },
   "outputs": [],
   "source": [
    "samples = seeds_df.values"
   ]
  },
  {
   "cell_type": "markdown",
   "metadata": {},
   "source": [
    "**Step 4:**  _(Written for you)_. Measure the quality of clusterings with different numbers of clusters using the\n",
    "inertia.  For each of the given values of `k`, perform the following steps:\n",
    "\n",
    "  - Create a `KMeans` instance called `model` with `k` clusters.\n",
    "  - Fit the model to the grain data `samples`.\n",
    "  - Append the value of the `inertia_` attribute of `model` to the list `inertias`."
   ]
  },
  {
   "cell_type": "code",
   "execution_count": 6,
   "metadata": {
    "collapsed": true
   },
   "outputs": [],
   "source": [
    "from sklearn.cluster import KMeans\n",
    "\n",
    "ks = range(1, 6)\n",
    "inertias = []\n",
    "\n",
    "for k in ks:\n",
    "    # Create a KMeans instance with k clusters: model\n",
    "    model = KMeans(n_clusters=k)\n",
    "\n",
    "    # Fit model to samples\n",
    "    model.fit(samples)\n",
    "\n",
    "    # Append the inertia to the list of inertias\n",
    "    inertias.append(model.inertia_)"
   ]
  },
  {
   "cell_type": "markdown",
   "metadata": {},
   "source": [
    "**Step 5:**  Plot the inertia to see which number of clusters is best. Remember: lower numbers are better!"
   ]
  },
  {
   "cell_type": "code",
   "execution_count": 10,
   "metadata": {},
   "outputs": [
    {
     "output_type": "display_data",
     "data": {
      "text/plain": "<Figure size 432x288 with 1 Axes>",
      "image/svg+xml": "<?xml version=\"1.0\" encoding=\"utf-8\" standalone=\"no\"?>\r\n<!DOCTYPE svg PUBLIC \"-//W3C//DTD SVG 1.1//EN\"\r\n  \"http://www.w3.org/Graphics/SVG/1.1/DTD/svg11.dtd\">\r\n<!-- Created with matplotlib (https://matplotlib.org/) -->\r\n<svg height=\"248.518125pt\" version=\"1.1\" viewBox=\"0 0 381.65 248.518125\" width=\"381.65pt\" xmlns=\"http://www.w3.org/2000/svg\" xmlns:xlink=\"http://www.w3.org/1999/xlink\">\r\n <defs>\r\n  <style type=\"text/css\">\r\n*{stroke-linecap:butt;stroke-linejoin:round;white-space:pre;}\r\n  </style>\r\n </defs>\r\n <g id=\"figure_1\">\r\n  <g id=\"patch_1\">\r\n   <path d=\"M -0 248.518125 \r\nL 381.65 248.518125 \r\nL 381.65 0 \r\nL -0 0 \r\nz\r\n\" style=\"fill:none;\"/>\r\n  </g>\r\n  <g id=\"axes_1\">\r\n   <g id=\"patch_2\">\r\n    <path d=\"M 39.65 224.64 \r\nL 374.45 224.64 \r\nL 374.45 7.2 \r\nL 39.65 7.2 \r\nz\r\n\" style=\"fill:#ffffff;\"/>\r\n   </g>\r\n   <g id=\"matplotlib.axis_1\">\r\n    <g id=\"xtick_1\">\r\n     <g id=\"line2d_1\">\r\n      <defs>\r\n       <path d=\"M 0 0 \r\nL 0 3.5 \r\n\" id=\"mae1bf5fb43\" style=\"stroke:#000000;stroke-width:0.8;\"/>\r\n      </defs>\r\n      <g>\r\n       <use style=\"stroke:#000000;stroke-width:0.8;\" x=\"54.868182\" xlink:href=\"#mae1bf5fb43\" y=\"224.64\"/>\r\n      </g>\r\n     </g>\r\n     <g id=\"text_1\">\r\n      <!-- 0.0 -->\r\n      <defs>\r\n       <path d=\"M 31.78125 66.40625 \r\nQ 24.171875 66.40625 20.328125 58.90625 \r\nQ 16.5 51.421875 16.5 36.375 \r\nQ 16.5 21.390625 20.328125 13.890625 \r\nQ 24.171875 6.390625 31.78125 6.390625 \r\nQ 39.453125 6.390625 43.28125 13.890625 \r\nQ 47.125 21.390625 47.125 36.375 \r\nQ 47.125 51.421875 43.28125 58.90625 \r\nQ 39.453125 66.40625 31.78125 66.40625 \r\nz\r\nM 31.78125 74.21875 \r\nQ 44.046875 74.21875 50.515625 64.515625 \r\nQ 56.984375 54.828125 56.984375 36.375 \r\nQ 56.984375 17.96875 50.515625 8.265625 \r\nQ 44.046875 -1.421875 31.78125 -1.421875 \r\nQ 19.53125 -1.421875 13.0625 8.265625 \r\nQ 6.59375 17.96875 6.59375 36.375 \r\nQ 6.59375 54.828125 13.0625 64.515625 \r\nQ 19.53125 74.21875 31.78125 74.21875 \r\nz\r\n\" id=\"DejaVuSans-48\"/>\r\n       <path d=\"M 10.6875 12.40625 \r\nL 21 12.40625 \r\nL 21 0 \r\nL 10.6875 0 \r\nz\r\n\" id=\"DejaVuSans-46\"/>\r\n      </defs>\r\n      <g transform=\"translate(46.916619 239.238438)scale(0.1 -0.1)\">\r\n       <use xlink:href=\"#DejaVuSans-48\"/>\r\n       <use x=\"63.623047\" xlink:href=\"#DejaVuSans-46\"/>\r\n       <use x=\"95.410156\" xlink:href=\"#DejaVuSans-48\"/>\r\n      </g>\r\n     </g>\r\n    </g>\r\n    <g id=\"xtick_2\">\r\n     <g id=\"line2d_2\">\r\n      <g>\r\n       <use style=\"stroke:#000000;stroke-width:0.8;\" x=\"92.913636\" xlink:href=\"#mae1bf5fb43\" y=\"224.64\"/>\r\n      </g>\r\n     </g>\r\n     <g id=\"text_2\">\r\n      <!-- 0.5 -->\r\n      <defs>\r\n       <path d=\"M 10.796875 72.90625 \r\nL 49.515625 72.90625 \r\nL 49.515625 64.59375 \r\nL 19.828125 64.59375 \r\nL 19.828125 46.734375 \r\nQ 21.96875 47.46875 24.109375 47.828125 \r\nQ 26.265625 48.1875 28.421875 48.1875 \r\nQ 40.625 48.1875 47.75 41.5 \r\nQ 54.890625 34.8125 54.890625 23.390625 \r\nQ 54.890625 11.625 47.5625 5.09375 \r\nQ 40.234375 -1.421875 26.90625 -1.421875 \r\nQ 22.3125 -1.421875 17.546875 -0.640625 \r\nQ 12.796875 0.140625 7.71875 1.703125 \r\nL 7.71875 11.625 \r\nQ 12.109375 9.234375 16.796875 8.0625 \r\nQ 21.484375 6.890625 26.703125 6.890625 \r\nQ 35.15625 6.890625 40.078125 11.328125 \r\nQ 45.015625 15.765625 45.015625 23.390625 \r\nQ 45.015625 31 40.078125 35.4375 \r\nQ 35.15625 39.890625 26.703125 39.890625 \r\nQ 22.75 39.890625 18.8125 39.015625 \r\nQ 14.890625 38.140625 10.796875 36.28125 \r\nz\r\n\" id=\"DejaVuSans-53\"/>\r\n      </defs>\r\n      <g transform=\"translate(84.962074 239.238438)scale(0.1 -0.1)\">\r\n       <use xlink:href=\"#DejaVuSans-48\"/>\r\n       <use x=\"63.623047\" xlink:href=\"#DejaVuSans-46\"/>\r\n       <use x=\"95.410156\" xlink:href=\"#DejaVuSans-53\"/>\r\n      </g>\r\n     </g>\r\n    </g>\r\n    <g id=\"xtick_3\">\r\n     <g id=\"line2d_3\">\r\n      <g>\r\n       <use style=\"stroke:#000000;stroke-width:0.8;\" x=\"130.959091\" xlink:href=\"#mae1bf5fb43\" y=\"224.64\"/>\r\n      </g>\r\n     </g>\r\n     <g id=\"text_3\">\r\n      <!-- 1.0 -->\r\n      <defs>\r\n       <path d=\"M 12.40625 8.296875 \r\nL 28.515625 8.296875 \r\nL 28.515625 63.921875 \r\nL 10.984375 60.40625 \r\nL 10.984375 69.390625 \r\nL 28.421875 72.90625 \r\nL 38.28125 72.90625 \r\nL 38.28125 8.296875 \r\nL 54.390625 8.296875 \r\nL 54.390625 0 \r\nL 12.40625 0 \r\nz\r\n\" id=\"DejaVuSans-49\"/>\r\n      </defs>\r\n      <g transform=\"translate(123.007528 239.238438)scale(0.1 -0.1)\">\r\n       <use xlink:href=\"#DejaVuSans-49\"/>\r\n       <use x=\"63.623047\" xlink:href=\"#DejaVuSans-46\"/>\r\n       <use x=\"95.410156\" xlink:href=\"#DejaVuSans-48\"/>\r\n      </g>\r\n     </g>\r\n    </g>\r\n    <g id=\"xtick_4\">\r\n     <g id=\"line2d_4\">\r\n      <g>\r\n       <use style=\"stroke:#000000;stroke-width:0.8;\" x=\"169.004545\" xlink:href=\"#mae1bf5fb43\" y=\"224.64\"/>\r\n      </g>\r\n     </g>\r\n     <g id=\"text_4\">\r\n      <!-- 1.5 -->\r\n      <g transform=\"translate(161.052983 239.238438)scale(0.1 -0.1)\">\r\n       <use xlink:href=\"#DejaVuSans-49\"/>\r\n       <use x=\"63.623047\" xlink:href=\"#DejaVuSans-46\"/>\r\n       <use x=\"95.410156\" xlink:href=\"#DejaVuSans-53\"/>\r\n      </g>\r\n     </g>\r\n    </g>\r\n    <g id=\"xtick_5\">\r\n     <g id=\"line2d_5\">\r\n      <g>\r\n       <use style=\"stroke:#000000;stroke-width:0.8;\" x=\"207.05\" xlink:href=\"#mae1bf5fb43\" y=\"224.64\"/>\r\n      </g>\r\n     </g>\r\n     <g id=\"text_5\">\r\n      <!-- 2.0 -->\r\n      <defs>\r\n       <path d=\"M 19.1875 8.296875 \r\nL 53.609375 8.296875 \r\nL 53.609375 0 \r\nL 7.328125 0 \r\nL 7.328125 8.296875 \r\nQ 12.9375 14.109375 22.625 23.890625 \r\nQ 32.328125 33.6875 34.8125 36.53125 \r\nQ 39.546875 41.84375 41.421875 45.53125 \r\nQ 43.3125 49.21875 43.3125 52.78125 \r\nQ 43.3125 58.59375 39.234375 62.25 \r\nQ 35.15625 65.921875 28.609375 65.921875 \r\nQ 23.96875 65.921875 18.8125 64.3125 \r\nQ 13.671875 62.703125 7.8125 59.421875 \r\nL 7.8125 69.390625 \r\nQ 13.765625 71.78125 18.9375 73 \r\nQ 24.125 74.21875 28.421875 74.21875 \r\nQ 39.75 74.21875 46.484375 68.546875 \r\nQ 53.21875 62.890625 53.21875 53.421875 \r\nQ 53.21875 48.921875 51.53125 44.890625 \r\nQ 49.859375 40.875 45.40625 35.40625 \r\nQ 44.1875 33.984375 37.640625 27.21875 \r\nQ 31.109375 20.453125 19.1875 8.296875 \r\nz\r\n\" id=\"DejaVuSans-50\"/>\r\n      </defs>\r\n      <g transform=\"translate(199.098438 239.238438)scale(0.1 -0.1)\">\r\n       <use xlink:href=\"#DejaVuSans-50\"/>\r\n       <use x=\"63.623047\" xlink:href=\"#DejaVuSans-46\"/>\r\n       <use x=\"95.410156\" xlink:href=\"#DejaVuSans-48\"/>\r\n      </g>\r\n     </g>\r\n    </g>\r\n    <g id=\"xtick_6\">\r\n     <g id=\"line2d_6\">\r\n      <g>\r\n       <use style=\"stroke:#000000;stroke-width:0.8;\" x=\"245.095455\" xlink:href=\"#mae1bf5fb43\" y=\"224.64\"/>\r\n      </g>\r\n     </g>\r\n     <g id=\"text_6\">\r\n      <!-- 2.5 -->\r\n      <g transform=\"translate(237.143892 239.238438)scale(0.1 -0.1)\">\r\n       <use xlink:href=\"#DejaVuSans-50\"/>\r\n       <use x=\"63.623047\" xlink:href=\"#DejaVuSans-46\"/>\r\n       <use x=\"95.410156\" xlink:href=\"#DejaVuSans-53\"/>\r\n      </g>\r\n     </g>\r\n    </g>\r\n    <g id=\"xtick_7\">\r\n     <g id=\"line2d_7\">\r\n      <g>\r\n       <use style=\"stroke:#000000;stroke-width:0.8;\" x=\"283.140909\" xlink:href=\"#mae1bf5fb43\" y=\"224.64\"/>\r\n      </g>\r\n     </g>\r\n     <g id=\"text_7\">\r\n      <!-- 3.0 -->\r\n      <defs>\r\n       <path d=\"M 40.578125 39.3125 \r\nQ 47.65625 37.796875 51.625 33 \r\nQ 55.609375 28.21875 55.609375 21.1875 \r\nQ 55.609375 10.40625 48.1875 4.484375 \r\nQ 40.765625 -1.421875 27.09375 -1.421875 \r\nQ 22.515625 -1.421875 17.65625 -0.515625 \r\nQ 12.796875 0.390625 7.625 2.203125 \r\nL 7.625 11.71875 \r\nQ 11.71875 9.328125 16.59375 8.109375 \r\nQ 21.484375 6.890625 26.8125 6.890625 \r\nQ 36.078125 6.890625 40.9375 10.546875 \r\nQ 45.796875 14.203125 45.796875 21.1875 \r\nQ 45.796875 27.640625 41.28125 31.265625 \r\nQ 36.765625 34.90625 28.71875 34.90625 \r\nL 20.21875 34.90625 \r\nL 20.21875 43.015625 \r\nL 29.109375 43.015625 \r\nQ 36.375 43.015625 40.234375 45.921875 \r\nQ 44.09375 48.828125 44.09375 54.296875 \r\nQ 44.09375 59.90625 40.109375 62.90625 \r\nQ 36.140625 65.921875 28.71875 65.921875 \r\nQ 24.65625 65.921875 20.015625 65.03125 \r\nQ 15.375 64.15625 9.8125 62.3125 \r\nL 9.8125 71.09375 \r\nQ 15.4375 72.65625 20.34375 73.4375 \r\nQ 25.25 74.21875 29.59375 74.21875 \r\nQ 40.828125 74.21875 47.359375 69.109375 \r\nQ 53.90625 64.015625 53.90625 55.328125 \r\nQ 53.90625 49.265625 50.4375 45.09375 \r\nQ 46.96875 40.921875 40.578125 39.3125 \r\nz\r\n\" id=\"DejaVuSans-51\"/>\r\n      </defs>\r\n      <g transform=\"translate(275.189347 239.238438)scale(0.1 -0.1)\">\r\n       <use xlink:href=\"#DejaVuSans-51\"/>\r\n       <use x=\"63.623047\" xlink:href=\"#DejaVuSans-46\"/>\r\n       <use x=\"95.410156\" xlink:href=\"#DejaVuSans-48\"/>\r\n      </g>\r\n     </g>\r\n    </g>\r\n    <g id=\"xtick_8\">\r\n     <g id=\"line2d_8\">\r\n      <g>\r\n       <use style=\"stroke:#000000;stroke-width:0.8;\" x=\"321.186364\" xlink:href=\"#mae1bf5fb43\" y=\"224.64\"/>\r\n      </g>\r\n     </g>\r\n     <g id=\"text_8\">\r\n      <!-- 3.5 -->\r\n      <g transform=\"translate(313.234801 239.238438)scale(0.1 -0.1)\">\r\n       <use xlink:href=\"#DejaVuSans-51\"/>\r\n       <use x=\"63.623047\" xlink:href=\"#DejaVuSans-46\"/>\r\n       <use x=\"95.410156\" xlink:href=\"#DejaVuSans-53\"/>\r\n      </g>\r\n     </g>\r\n    </g>\r\n    <g id=\"xtick_9\">\r\n     <g id=\"line2d_9\">\r\n      <g>\r\n       <use style=\"stroke:#000000;stroke-width:0.8;\" x=\"359.231818\" xlink:href=\"#mae1bf5fb43\" y=\"224.64\"/>\r\n      </g>\r\n     </g>\r\n     <g id=\"text_9\">\r\n      <!-- 4.0 -->\r\n      <defs>\r\n       <path d=\"M 37.796875 64.3125 \r\nL 12.890625 25.390625 \r\nL 37.796875 25.390625 \r\nz\r\nM 35.203125 72.90625 \r\nL 47.609375 72.90625 \r\nL 47.609375 25.390625 \r\nL 58.015625 25.390625 \r\nL 58.015625 17.1875 \r\nL 47.609375 17.1875 \r\nL 47.609375 0 \r\nL 37.796875 0 \r\nL 37.796875 17.1875 \r\nL 4.890625 17.1875 \r\nL 4.890625 26.703125 \r\nz\r\n\" id=\"DejaVuSans-52\"/>\r\n      </defs>\r\n      <g transform=\"translate(351.280256 239.238438)scale(0.1 -0.1)\">\r\n       <use xlink:href=\"#DejaVuSans-52\"/>\r\n       <use x=\"63.623047\" xlink:href=\"#DejaVuSans-46\"/>\r\n       <use x=\"95.410156\" xlink:href=\"#DejaVuSans-48\"/>\r\n      </g>\r\n     </g>\r\n    </g>\r\n   </g>\r\n   <g id=\"matplotlib.axis_2\">\r\n    <g id=\"ytick_1\">\r\n     <g id=\"line2d_10\">\r\n      <defs>\r\n       <path d=\"M 0 0 \r\nL -3.5 0 \r\n\" id=\"mc14140c52c\" style=\"stroke:#000000;stroke-width:0.8;\"/>\r\n      </defs>\r\n      <g>\r\n       <use style=\"stroke:#000000;stroke-width:0.8;\" x=\"39.65\" xlink:href=\"#mc14140c52c\" y=\"205.061102\"/>\r\n      </g>\r\n     </g>\r\n     <g id=\"text_10\">\r\n      <!-- 500 -->\r\n      <g transform=\"translate(13.5625 208.860321)scale(0.1 -0.1)\">\r\n       <use xlink:href=\"#DejaVuSans-53\"/>\r\n       <use x=\"63.623047\" xlink:href=\"#DejaVuSans-48\"/>\r\n       <use x=\"127.246094\" xlink:href=\"#DejaVuSans-48\"/>\r\n      </g>\r\n     </g>\r\n    </g>\r\n    <g id=\"ytick_2\">\r\n     <g id=\"line2d_11\">\r\n      <g>\r\n       <use style=\"stroke:#000000;stroke-width:0.8;\" x=\"39.65\" xlink:href=\"#mc14140c52c\" y=\"162.72102\"/>\r\n      </g>\r\n     </g>\r\n     <g id=\"text_11\">\r\n      <!-- 1000 -->\r\n      <g transform=\"translate(7.2 166.520239)scale(0.1 -0.1)\">\r\n       <use xlink:href=\"#DejaVuSans-49\"/>\r\n       <use x=\"63.623047\" xlink:href=\"#DejaVuSans-48\"/>\r\n       <use x=\"127.246094\" xlink:href=\"#DejaVuSans-48\"/>\r\n       <use x=\"190.869141\" xlink:href=\"#DejaVuSans-48\"/>\r\n      </g>\r\n     </g>\r\n    </g>\r\n    <g id=\"ytick_3\">\r\n     <g id=\"line2d_12\">\r\n      <g>\r\n       <use style=\"stroke:#000000;stroke-width:0.8;\" x=\"39.65\" xlink:href=\"#mc14140c52c\" y=\"120.380938\"/>\r\n      </g>\r\n     </g>\r\n     <g id=\"text_12\">\r\n      <!-- 1500 -->\r\n      <g transform=\"translate(7.2 124.180157)scale(0.1 -0.1)\">\r\n       <use xlink:href=\"#DejaVuSans-49\"/>\r\n       <use x=\"63.623047\" xlink:href=\"#DejaVuSans-53\"/>\r\n       <use x=\"127.246094\" xlink:href=\"#DejaVuSans-48\"/>\r\n       <use x=\"190.869141\" xlink:href=\"#DejaVuSans-48\"/>\r\n      </g>\r\n     </g>\r\n    </g>\r\n    <g id=\"ytick_4\">\r\n     <g id=\"line2d_13\">\r\n      <g>\r\n       <use style=\"stroke:#000000;stroke-width:0.8;\" x=\"39.65\" xlink:href=\"#mc14140c52c\" y=\"78.040856\"/>\r\n      </g>\r\n     </g>\r\n     <g id=\"text_13\">\r\n      <!-- 2000 -->\r\n      <g transform=\"translate(7.2 81.840075)scale(0.1 -0.1)\">\r\n       <use xlink:href=\"#DejaVuSans-50\"/>\r\n       <use x=\"63.623047\" xlink:href=\"#DejaVuSans-48\"/>\r\n       <use x=\"127.246094\" xlink:href=\"#DejaVuSans-48\"/>\r\n       <use x=\"190.869141\" xlink:href=\"#DejaVuSans-48\"/>\r\n      </g>\r\n     </g>\r\n    </g>\r\n    <g id=\"ytick_5\">\r\n     <g id=\"line2d_14\">\r\n      <g>\r\n       <use style=\"stroke:#000000;stroke-width:0.8;\" x=\"39.65\" xlink:href=\"#mc14140c52c\" y=\"35.700775\"/>\r\n      </g>\r\n     </g>\r\n     <g id=\"text_14\">\r\n      <!-- 2500 -->\r\n      <g transform=\"translate(7.2 39.499993)scale(0.1 -0.1)\">\r\n       <use xlink:href=\"#DejaVuSans-50\"/>\r\n       <use x=\"63.623047\" xlink:href=\"#DejaVuSans-53\"/>\r\n       <use x=\"127.246094\" xlink:href=\"#DejaVuSans-48\"/>\r\n       <use x=\"190.869141\" xlink:href=\"#DejaVuSans-48\"/>\r\n      </g>\r\n     </g>\r\n    </g>\r\n   </g>\r\n   <g id=\"line2d_15\">\r\n    <path clip-path=\"url(#p9c0f1fca74)\" d=\"M 54.868182 17.083636 \r\nL 130.959091 161.729217 \r\nL 207.05 197.666948 \r\nL 283.140909 207.514528 \r\nL 359.231818 214.756364 \r\n\" style=\"fill:none;stroke:#1f77b4;stroke-linecap:square;stroke-width:1.5;\"/>\r\n   </g>\r\n   <g id=\"patch_3\">\r\n    <path d=\"M 39.65 224.64 \r\nL 39.65 7.2 \r\n\" style=\"fill:none;stroke:#000000;stroke-linecap:square;stroke-linejoin:miter;stroke-width:0.8;\"/>\r\n   </g>\r\n   <g id=\"patch_4\">\r\n    <path d=\"M 374.45 224.64 \r\nL 374.45 7.2 \r\n\" style=\"fill:none;stroke:#000000;stroke-linecap:square;stroke-linejoin:miter;stroke-width:0.8;\"/>\r\n   </g>\r\n   <g id=\"patch_5\">\r\n    <path d=\"M 39.65 224.64 \r\nL 374.45 224.64 \r\n\" style=\"fill:none;stroke:#000000;stroke-linecap:square;stroke-linejoin:miter;stroke-width:0.8;\"/>\r\n   </g>\r\n   <g id=\"patch_6\">\r\n    <path d=\"M 39.65 7.2 \r\nL 374.45 7.2 \r\n\" style=\"fill:none;stroke:#000000;stroke-linecap:square;stroke-linejoin:miter;stroke-width:0.8;\"/>\r\n   </g>\r\n  </g>\r\n </g>\r\n <defs>\r\n  <clipPath id=\"p9c0f1fca74\">\r\n   <rect height=\"217.44\" width=\"334.8\" x=\"39.65\" y=\"7.2\"/>\r\n  </clipPath>\r\n </defs>\r\n</svg>\r\n",
      "image/png": "[encoded data removed]"
     },
     "metadata": {
      "needs_background": "light"
     }
    }
   ],
   "source": [
    "import matplotlib.pyplot as plt\n",
    "plt.plot(inertias)\n",
    "plt.show()"
   ]
  },
  {
   "cell_type": "markdown",
   "metadata": {},
   "source": [
    "**Excellent work!** You can see from the graph that 3 is a good number of clusters, since these are points where the inertia begins to decrease more slowly."
   ]
  },
  {
   "cell_type": "code",
   "execution_count": null,
   "metadata": {
    "collapsed": true
   },
   "outputs": [],
   "source": []
  }
 ],
 "metadata": {
  "kernelspec": {
   "display_name": "Python 3",
   "language": "python",
   "name": "python3"
  },
  "language_info": {
   "codemirror_mode": {
    "name": "ipython",
    "version": 3
   },
   "file_extension": ".py",
   "mimetype": "text/x-python",
   "name": "python",
   "nbconvert_exporter": "python",
   "pygments_lexer": "ipython3",
   "version": "3.7.3-final"
  }
 },
 "nbformat": 4,
 "nbformat_minor": 2
}