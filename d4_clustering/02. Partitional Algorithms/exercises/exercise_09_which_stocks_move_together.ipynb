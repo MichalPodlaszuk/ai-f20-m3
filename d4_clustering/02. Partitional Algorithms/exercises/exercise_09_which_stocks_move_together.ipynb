{
 "cells": [
  {
   "cell_type": "markdown",
   "metadata": {},
   "source": [
    "# Exercise 9: Which stocks move together?\n",
    "\n",
    "In the previous exercise, you clustered companies by their daily stock price movements.  So which company have stock prices that tend to change in the same way?  Now inspect the cluster labels from your clustering to find out."
   ]
  },
  {
   "cell_type": "markdown",
   "metadata": {},
   "source": [
    "**Step 1:** Load the data _(written for you)_."
   ]
  },
  {
   "cell_type": "code",
   "execution_count": 1,
   "metadata": {
    "collapsed": true,
    "exercise": false
   },
   "outputs": [],
   "source": [
    "import pandas as pd\n",
    "\n",
    "fn = '../datasets/company-stock-movements-2010-2015-incl.csv'\n",
    "stocks_df = pd.read_csv(fn, index_col=0)"
   ]
  },
  {
   "cell_type": "markdown",
   "metadata": {},
   "source": [
    "**Step 2:** Run your code from the previous exercise _(filled in for you)_."
   ]
  },
  {
   "cell_type": "code",
   "execution_count": 2,
   "metadata": {
    "exercise": false
   },
   "outputs": [
    {
     "output_type": "execute_result",
     "data": {
      "text/plain": [
       "Pipeline(memory=None,\n",
       "         steps=[('normalizer', Normalizer(copy=True, norm='l2')),\n",
       "                ('kmeans',\n",
       "                 KMeans(algorithm='auto', copy_x=True, init='k-means++',\n",
       "                        max_iter=300, n_clusters=14, n_init=10, n_jobs=None,\n",
       "                        precompute_distances='auto', random_state=None,\n",
       "                        tol=0.0001, verbose=0))],\n",
       "         verbose=False)"
      ]
     },
     "metadata": {},
     "execution_count": 2
    }
   ],
   "source": [
    "companies = list(stocks_df.index)\n",
    "movements = stocks_df.values\n",
    "\n",
    "from sklearn.preprocessing import Normalizer\n",
    "from sklearn.cluster import KMeans\n",
    "from sklearn.pipeline import make_pipeline\n",
    "\n",
    "normalizer = Normalizer()\n",
    "kmeans = KMeans(n_clusters=14)\n",
    "pipeline = make_pipeline(normalizer, kmeans)\n",
    "pipeline.fit(movements)"
   ]
  },
  {
   "cell_type": "markdown",
   "metadata": {},
   "source": [
    "**Step 3:** Use the `.predict()` method of the pipeline to predict the labels for `movements`."
   ]
  },
  {
   "cell_type": "code",
   "execution_count": 4,
   "metadata": {
    "collapsed": true
   },
   "outputs": [],
   "source": [
    "labels = pipeline.predict(movements)"
   ]
  },
  {
   "cell_type": "markdown",
   "metadata": {},
   "source": [
    "**Step 4:** Align the cluster labels with the list of company names `companies` by creating a DataFrame `df` with `labels` and `companies` as columns."
   ]
  },
  {
   "cell_type": "code",
   "execution_count": 5,
   "metadata": {
    "collapsed": true
   },
   "outputs": [],
   "source": [
    "df = pd.DataFrame(data={'labels': labels, 'companies': companies})"
   ]
  },
  {
   "cell_type": "markdown",
   "metadata": {},
   "source": [
    "**Step 5:** Now display the DataFrame, sorted by cluster label.  To do this, use the `.sort_values()` method of `df` to sort the DataFrame by the `'labels'` column."
   ]
  },
  {
   "cell_type": "code",
   "execution_count": 7,
   "metadata": {},
   "outputs": [
    {
     "output_type": "execute_result",
     "data": {
      "text/plain": [
       "    labels                           companies\n",
       "1        0                                 AIG\n",
       "3        0                    American express\n",
       "26       0                      JPMorgan Chase\n",
       "5        0                     Bank of America\n",
       "18       0                       Goldman Sachs\n",
       "16       0                   General Electrics\n",
       "55       0                         Wells Fargo\n",
       "39       1                              Pfizer\n",
       "25       1                   Johnson & Johnson\n",
       "54       1                            Walgreen\n",
       "8        2                         Caterpillar\n",
       "44       2                        Schlumberger\n",
       "35       2                            Navistar\n",
       "53       3                       Valero Energy\n",
       "10       3                      ConocoPhillips\n",
       "57       3                               Exxon\n",
       "12       3                             Chevron\n",
       "46       4                      Sanofi-Aventis\n",
       "37       4                            Novartis\n",
       "49       4                               Total\n",
       "43       4                                 SAP\n",
       "52       4                            Unilever\n",
       "42       4                   Royal Dutch Shell\n",
       "6        4            British American Tobacco\n",
       "19       4                     GlaxoSmithKline\n",
       "15       5                                Ford\n",
       "7        5                               Canon\n",
       "34       5                          Mitsubishi\n",
       "45       5                                Sony\n",
       "58       5                               Xerox\n",
       "48       5                              Toyota\n",
       "21       5                               Honda\n",
       "51       6                   Texas instruments\n",
       "50       6  Taiwan Semiconductor Manufacturing\n",
       "27       7                      Kimberly-Clark\n",
       "9        7                   Colgate-Palmolive\n",
       "40       7                      Procter Gamble\n",
       "17       8                     Google/Alphabet\n",
       "2        8                              Amazon\n",
       "59       8                               Yahoo\n",
       "56       9                            Wal-Mart\n",
       "47      10                            Symantec\n",
       "29      10                     Lookheed Martin\n",
       "23      10                                 IBM\n",
       "36      10                    Northrop Grumman\n",
       "4       10                              Boeing\n",
       "32      10                                  3M\n",
       "31      10                           McDonalds\n",
       "30      10                          MasterCard\n",
       "13      10                   DuPont de Nemours\n",
       "20      10                          Home Depot\n",
       "11      11                               Cisco\n",
       "14      11                                Dell\n",
       "0       11                               Apple\n",
       "24      11                               Intel\n",
       "33      11                           Microsoft\n",
       "22      11                                  HP\n",
       "28      12                           Coca Cola\n",
       "38      12                               Pepsi\n",
       "41      13                       Philip Morris"
      ],
      "text/html": "<div>\n<style scoped>\n    .dataframe tbody tr th:only-of-type {\n        vertical-align: middle;\n    }\n\n    .dataframe tbody tr th {\n        vertical-align: top;\n    }\n\n    .dataframe thead th {\n        text-align: right;\n    }\n</style>\n<table border=\"1\" class=\"dataframe\">\n  <thead>\n    <tr style=\"text-align: right;\">\n      <th></th>\n      <th>labels</th>\n      <th>companies</th>\n    </tr>\n  </thead>\n  <tbody>\n    <tr>\n      <th>1</th>\n      <td>0</td>\n      <td>AIG</td>\n    </tr>\n    <tr>\n      <th>3</th>\n      <td>0</td>\n      <td>American express</td>\n    </tr>\n    <tr>\n      <th>26</th>\n      <td>0</td>\n      <td>JPMorgan Chase</td>\n    </tr>\n    <tr>\n      <th>5</th>\n      <td>0</td>\n      <td>Bank of America</td>\n    </tr>\n    <tr>\n      <th>18</th>\n      <td>0</td>\n      <td>Goldman Sachs</td>\n    </tr>\n    <tr>\n      <th>16</th>\n      <td>0</td>\n      <td>General Electrics</td>\n    </tr>\n    <tr>\n      <th>55</th>\n      <td>0</td>\n      <td>Wells Fargo</td>\n    </tr>\n    <tr>\n      <th>39</th>\n      <td>1</td>\n      <td>Pfizer</td>\n    </tr>\n    <tr>\n      <th>25</th>\n      <td>1</td>\n      <td>Johnson &amp; Johnson</td>\n    </tr>\n    <tr>\n      <th>54</th>\n      <td>1</td>\n      <td>Walgreen</td>\n    </tr>\n    <tr>\n      <th>8</th>\n      <td>2</td>\n      <td>Caterpillar</td>\n    </tr>\n    <tr>\n      <th>44</th>\n      <td>2</td>\n      <td>Schlumberger</td>\n    </tr>\n    <tr>\n      <th>35</th>\n      <td>2</td>\n      <td>Navistar</td>\n    </tr>\n    <tr>\n      <th>53</th>\n      <td>3</td>\n      <td>Valero Energy</td>\n    </tr>\n    <tr>\n      <th>10</th>\n      <td>3</td>\n      <td>ConocoPhillips</td>\n    </tr>\n    <tr>\n      <th>57</th>\n      <td>3</td>\n      <td>Exxon</td>\n    </tr>\n    <tr>\n      <th>12</th>\n      <td>3</td>\n      <td>Chevron</td>\n    </tr>\n    <tr>\n      <th>46</th>\n      <td>4</td>\n      <td>Sanofi-Aventis</td>\n    </tr>\n    <tr>\n      <th>37</th>\n      <td>4</td>\n      <td>Novartis</td>\n    </tr>\n    <tr>\n      <th>49</th>\n      <td>4</td>\n      <td>Total</td>\n    </tr>\n    <tr>\n      <th>43</th>\n      <td>4</td>\n      <td>SAP</td>\n    </tr>\n    <tr>\n      <th>52</th>\n      <td>4</td>\n      <td>Unilever</td>\n    </tr>\n    <tr>\n      <th>42</th>\n      <td>4</td>\n      <td>Royal Dutch Shell</td>\n    </tr>\n    <tr>\n      <th>6</th>\n      <td>4</td>\n      <td>British American Tobacco</td>\n    </tr>\n    <tr>\n      <th>19</th>\n      <td>4</td>\n      <td>GlaxoSmithKline</td>\n    </tr>\n    <tr>\n      <th>15</th>\n      <td>5</td>\n      <td>Ford</td>\n    </tr>\n    <tr>\n      <th>7</th>\n      <td>5</td>\n      <td>Canon</td>\n    </tr>\n    <tr>\n      <th>34</th>\n      <td>5</td>\n      <td>Mitsubishi</td>\n    </tr>\n    <tr>\n      <th>45</th>\n      <td>5</td>\n      <td>Sony</td>\n    </tr>\n    <tr>\n      <th>58</th>\n      <td>5</td>\n      <td>Xerox</td>\n    </tr>\n    <tr>\n      <th>48</th>\n      <td>5</td>\n      <td>Toyota</td>\n    </tr>\n    <tr>\n      <th>21</th>\n      <td>5</td>\n      <td>Honda</td>\n    </tr>\n    <tr>\n      <th>51</th>\n      <td>6</td>\n      <td>Texas instruments</td>\n    </tr>\n    <tr>\n      <th>50</th>\n      <td>6</td>\n      <td>Taiwan Semiconductor Manufacturing</td>\n    </tr>\n    <tr>\n      <th>27</th>\n      <td>7</td>\n      <td>Kimberly-Clark</td>\n    </tr>\n    <tr>\n      <th>9</th>\n      <td>7</td>\n      <td>Colgate-Palmolive</td>\n    </tr>\n    <tr>\n      <th>40</th>\n      <td>7</td>\n      <td>Procter Gamble</td>\n    </tr>\n    <tr>\n      <th>17</th>\n      <td>8</td>\n      <td>Google/Alphabet</td>\n    </tr>\n    <tr>\n      <th>2</th>\n      <td>8</td>\n      <td>Amazon</td>\n    </tr>\n    <tr>\n      <th>59</th>\n      <td>8</td>\n      <td>Yahoo</td>\n    </tr>\n    <tr>\n      <th>56</th>\n      <td>9</td>\n      <td>Wal-Mart</td>\n    </tr>\n    <tr>\n      <th>47</th>\n      <td>10</td>\n      <td>Symantec</td>\n    </tr>\n    <tr>\n      <th>29</th>\n      <td>10</td>\n      <td>Lookheed Martin</td>\n    </tr>\n    <tr>\n      <th>23</th>\n      <td>10</td>\n      <td>IBM</td>\n    </tr>\n    <tr>\n      <th>36</th>\n      <td>10</td>\n      <td>Northrop Grumman</td>\n    </tr>\n    <tr>\n      <th>4</th>\n      <td>10</td>\n      <td>Boeing</td>\n    </tr>\n    <tr>\n      <th>32</th>\n      <td>10</td>\n      <td>3M</td>\n    </tr>\n    <tr>\n      <th>31</th>\n      <td>10</td>\n      <td>McDonalds</td>\n    </tr>\n    <tr>\n      <th>30</th>\n      <td>10</td>\n      <td>MasterCard</td>\n    </tr>\n    <tr>\n      <th>13</th>\n      <td>10</td>\n      <td>DuPont de Nemours</td>\n    </tr>\n    <tr>\n      <th>20</th>\n      <td>10</td>\n      <td>Home Depot</td>\n    </tr>\n    <tr>\n      <th>11</th>\n      <td>11</td>\n      <td>Cisco</td>\n    </tr>\n    <tr>\n      <th>14</th>\n      <td>11</td>\n      <td>Dell</td>\n    </tr>\n    <tr>\n      <th>0</th>\n      <td>11</td>\n      <td>Apple</td>\n    </tr>\n    <tr>\n      <th>24</th>\n      <td>11</td>\n      <td>Intel</td>\n    </tr>\n    <tr>\n      <th>33</th>\n      <td>11</td>\n      <td>Microsoft</td>\n    </tr>\n    <tr>\n      <th>22</th>\n      <td>11</td>\n      <td>HP</td>\n    </tr>\n    <tr>\n      <th>28</th>\n      <td>12</td>\n      <td>Coca Cola</td>\n    </tr>\n    <tr>\n      <th>38</th>\n      <td>12</td>\n      <td>Pepsi</td>\n    </tr>\n    <tr>\n      <th>41</th>\n      <td>13</td>\n      <td>Philip Morris</td>\n    </tr>\n  </tbody>\n</table>\n</div>"
     },
     "metadata": {},
     "execution_count": 7
    }
   ],
   "source": [
    "df.sort_values('labels')"
   ]
  },
  {
   "cell_type": "markdown",
   "metadata": {},
   "source": [
    "**Great job!** Using k-means, you've discovered which companies stock prices move together on the stock exchange."
   ]
  },
  {
   "cell_type": "code",
   "execution_count": null,
   "metadata": {
    "collapsed": true
   },
   "outputs": [],
   "source": []
  }
 ],
 "metadata": {
  "kernelspec": {
   "display_name": "Python 3",
   "language": "python",
   "name": "python3"
  },
  "language_info": {
   "codemirror_mode": {
    "name": "ipython",
    "version": 3
   },
   "file_extension": ".py",
   "mimetype": "text/x-python",
   "name": "python",
   "nbconvert_exporter": "python",
   "pygments_lexer": "ipython3",
   "version": "3.7.3-final"
  }
 },
 "nbformat": 4,
 "nbformat_minor": 2
}